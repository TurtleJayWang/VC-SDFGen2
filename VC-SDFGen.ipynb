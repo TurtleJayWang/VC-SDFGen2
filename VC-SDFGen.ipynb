{
 "cells": [
  {
   "cell_type": "markdown",
   "metadata": {},
   "source": [
    "# Download Codes"
   ]
  },
  {
   "cell_type": "code",
   "execution_count": null,
   "metadata": {},
   "outputs": [],
   "source": [
    "!git clone https://github.com/TurtleJayWang/VC-SDFGen2.git\n",
    "import os\n",
    "import sys\n",
    "os.chdir('VC-SDFGen')\n",
    "sys.path.append(os.getcwd())\n",
    "\n",
    "%pip install trimesh"
   ]
  },
  {
   "cell_type": "code",
   "execution_count": null,
   "metadata": {},
   "outputs": [],
   "source": [
    "!git pull"
   ]
  },
  {
   "cell_type": "markdown",
   "metadata": {},
   "source": [
    "# Train DeepSDF"
   ]
  },
  {
   "cell_type": "markdown",
   "metadata": {},
   "source": [
    "## Data preparation\n",
    "In this notebook, we use data downloaded from kaggle using kagglehub"
   ]
  },
  {
   "cell_type": "code",
   "execution_count": 3,
   "metadata": {},
   "outputs": [],
   "source": [
    "import kagglehub\n",
    "shapenetsdf_path = kagglehub.dataset_download(\"turtlejaywang/shapenetsdf\")"
   ]
  },
  {
   "cell_type": "markdown",
   "metadata": {},
   "source": [
    "## Training Loop\n",
    "* **DeepSDFTrainer** : This is the trainer which handles the training of DeepSDF model\n",
    "* **DeepSDF** : This is the model which is trained, the trained parameter is saved to *result_dir*"
   ]
  },
  {
   "cell_type": "code",
   "execution_count": null,
   "metadata": {},
   "outputs": [],
   "source": [
    "import matplotlib.pyplot as plt\n",
    "import numpy as np\n",
    "\n",
    "from tqdm import tqdm\n",
    "from IPython.display import clear_output\n",
    "\n",
    "from trainer.DeepSDFTrainer import DeepSDFTrainer\n",
    "from data.dataset import ShapeNetSDF\n",
    "from model.DeepSDF import DeepSDF\n",
    "\n",
    "deepsdf_model = DeepSDF(latent_dim=512, hidden_dim=512, n_hidden_layers=8)\n",
    "deepsdf_dataset = ShapeNetSDF(shapenetsdf_path)\n",
    "\n",
    "deepsdf_trainer = DeepSDFTrainer(\n",
    "    deepsdf_model,\n",
    "    deepsdf_dataset,\n",
    "    epochs=2000, batch_size=24, \n",
    "    results_dir=\"results_deepsdf_latent512_hidden512_dropout02\"\n",
    ")\n",
    "\n",
    "for e, losses in tqdm(enumerate(deepsdf_trainer), total=deepsdf_trainer.epochs):\n",
    "    if e % 10 == 0:\n",
    "        clear_output()\n",
    "        x = np.arange(len(losses))\n",
    "        plt.plot(x, losses)\n",
    "        plt.xlabel('Epoch')\n",
    "        plt.ylabel('Loss')\n",
    "        plt.title('Training Loss')\n",
    "        plt.show()"
   ]
  },
  {
   "cell_type": "markdown",
   "metadata": {},
   "source": [
    "## Visualize"
   ]
  },
  {
   "cell_type": "code",
   "execution_count": null,
   "metadata": {},
   "outputs": [],
   "source": [
    "from visualize import Visualizer\n",
    "import random\n",
    "\n",
    "generate_index = random.randint(0, len(deepsdf_dataset))\n",
    "visualizer = Visualizer(deepsdf_trainer.deepsdf_model, deepsdf_trainer.embeddings)\n",
    "visualizer.generate_sdf_objs(generate_index)"
   ]
  },
  {
   "cell_type": "markdown",
   "metadata": {},
   "source": [
    "# Train VCCNF"
   ]
  },
  {
   "cell_type": "markdown",
   "metadata": {},
   "source": [
    "## Data Preparation"
   ]
  },
  {
   "cell_type": "code",
   "execution_count": null,
   "metadata": {},
   "outputs": [],
   "source": [
    "shapenetvoxel32_path = kagglehub.dataset_download(\"turtlejaywang/shapenetvoxel64\")"
   ]
  },
  {
   "cell_type": "markdown",
   "metadata": {},
   "source": [
    "## Training Loop\n",
    "* **VCCNF**: This is the main CNF wrapper which contains a ODE network and a voxel encoder\n",
    "* **VCCNFTrainer** : This is the trainer object which handles training affairs."
   ]
  },
  {
   "cell_type": "code",
   "execution_count": null,
   "metadata": {},
   "outputs": [],
   "source": [
    "import matplotlib.pyplot as plt\n",
    "import numpy as np\n",
    "\n",
    "from tqdm import tqdm\n",
    "from IPython.display import clear_output\n",
    "\n",
    "from trainer.VCCNFTrainer import VCCNFTrainer\n",
    "from data.dataset import ShapeNetSDF\n",
    "from model.DeepSDF import DeepSDF\n",
    "\n",
    "deepsdf_model = DeepSDF(latent_dim=512, hidden_dim=512, n_hidden_layers=8)\n",
    "deepsdf_dataset = ShapeNetSDF(shapenetsdf_path)\n",
    "\n",
    "deepsdf_trainer = DeepSDFTrainer(\n",
    "    deepsdf_model,\n",
    "    deepsdf_dataset,\n",
    "    epochs=2000, batch_size=24, \n",
    "    results_dir=\"results_deepsdf_latent512_hidden512_dropout02\"\n",
    ")\n",
    "\n",
    "for e, losses in tqdm(enumerate(deepsdf_trainer), total=deepsdf_trainer.epochs):\n",
    "    if e % 10 == 0:\n",
    "        clear_output()\n",
    "        x = np.arange(len(losses))\n",
    "        plt.plot(x, losses)\n",
    "        plt.xlabel('Epoch')\n",
    "        plt.ylabel('Loss')\n",
    "        plt.title('Training Loss')\n",
    "        plt.show()"
   ]
  }
 ],
 "metadata": {
  "kernelspec": {
   "display_name": "Research",
   "language": "python",
   "name": "python3"
  },
  "language_info": {
   "codemirror_mode": {
    "name": "ipython",
    "version": 3
   },
   "file_extension": ".py",
   "mimetype": "text/x-python",
   "name": "python",
   "nbconvert_exporter": "python",
   "pygments_lexer": "ipython3",
   "version": "3.13.2"
  }
 },
 "nbformat": 4,
 "nbformat_minor": 2
}
