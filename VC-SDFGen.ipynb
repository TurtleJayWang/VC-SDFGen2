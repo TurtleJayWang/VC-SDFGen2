{
 "cells": [
  {
   "cell_type": "markdown",
   "metadata": {},
   "source": [
    "# Download Codes"
   ]
  },
  {
   "cell_type": "code",
   "execution_count": 1,
   "metadata": {},
   "outputs": [
    {
     "name": "stdout",
     "output_type": "stream",
     "text": [
      "fatal: destination path 'VC-SDFGen2' already exists and is not an empty directory.\n",
      "Requirement already satisfied: trimesh in /usr/local/lib/python3.10/dist-packages (4.6.6)\n",
      "Requirement already satisfied: numpy>=1.20 in /usr/local/lib/python3.10/dist-packages (from trimesh) (1.26.4)\n",
      "Requirement already satisfied: mkl_fft in /usr/local/lib/python3.10/dist-packages (from numpy>=1.20->trimesh) (1.3.8)\n",
      "Requirement already satisfied: mkl_random in /usr/local/lib/python3.10/dist-packages (from numpy>=1.20->trimesh) (1.2.4)\n",
      "Requirement already satisfied: mkl_umath in /usr/local/lib/python3.10/dist-packages (from numpy>=1.20->trimesh) (0.1.1)\n",
      "Requirement already satisfied: mkl in /usr/local/lib/python3.10/dist-packages (from numpy>=1.20->trimesh) (2025.0.1)\n",
      "Requirement already satisfied: tbb4py in /usr/local/lib/python3.10/dist-packages (from numpy>=1.20->trimesh) (2022.0.0)\n",
      "Requirement already satisfied: mkl-service in /usr/local/lib/python3.10/dist-packages (from numpy>=1.20->trimesh) (2.4.1)\n",
      "Requirement already satisfied: intel-openmp>=2024 in /usr/local/lib/python3.10/dist-packages (from mkl->numpy>=1.20->trimesh) (2024.2.0)\n",
      "Requirement already satisfied: tbb==2022.* in /usr/local/lib/python3.10/dist-packages (from mkl->numpy>=1.20->trimesh) (2022.0.0)\n",
      "Requirement already satisfied: tcmlib==1.* in /usr/local/lib/python3.10/dist-packages (from tbb==2022.*->mkl->numpy>=1.20->trimesh) (1.2.0)\n",
      "Requirement already satisfied: intel-cmplr-lib-rt in /usr/local/lib/python3.10/dist-packages (from mkl_umath->numpy>=1.20->trimesh) (2024.2.0)\n",
      "Requirement already satisfied: intel-cmplr-lib-ur==2024.2.0 in /usr/local/lib/python3.10/dist-packages (from intel-openmp>=2024->mkl->numpy>=1.20->trimesh) (2024.2.0)\n",
      "Note: you may need to restart the kernel to use updated packages.\n"
     ]
    }
   ],
   "source": [
    "!git clone https://github.com/TurtleJayWang/VC-SDFGen2.git\n",
    "import os\n",
    "import sys\n",
    "os.chdir('VC-SDFGen2')\n",
    "sys.path.append(os.getcwd())\n",
    "\n",
    "%pip install trimesh"
   ]
  },
  {
   "cell_type": "code",
   "execution_count": 2,
   "metadata": {},
   "outputs": [
    {
     "name": "stdout",
     "output_type": "stream",
     "text": [
      "remote: Enumerating objects: 7, done.\u001b[K\n",
      "remote: Counting objects: 100% (7/7), done.\u001b[K\n",
      "remote: Compressing objects: 100% (2/2), done.\u001b[K\n",
      "remote: Total 4 (delta 2), reused 4 (delta 2), pack-reused 0 (from 0)\u001b[K\n",
      "Unpacking objects: 100% (4/4), 470 bytes | 470.00 KiB/s, done.\n",
      "From https://github.com/TurtleJayWang/VC-SDFGen2\n",
      "   ffffd3e..40dfd25  main       -> origin/main\n",
      "Updating ffffd3e..40dfd25\n",
      "Fast-forward\n",
      " trainer/BaseTrainer.py | 11 \u001b[32m+++++++\u001b[m\u001b[31m----\u001b[m\n",
      " 1 file changed, 7 insertions(+), 4 deletions(-)\n"
     ]
    }
   ],
   "source": [
    "!git pull"
   ]
  },
  {
   "cell_type": "markdown",
   "metadata": {},
   "source": [
    "# Train DeepSDF"
   ]
  },
  {
   "cell_type": "markdown",
   "metadata": {},
   "source": [
    "## Data preparation\n",
    "In this notebook, we use data downloaded from kaggle using kagglehub"
   ]
  },
  {
   "cell_type": "code",
   "execution_count": 3,
   "metadata": {},
   "outputs": [],
   "source": [
    "import kagglehub\n",
    "shapenetsdf_path = kagglehub.dataset_download(\"turtlejaywang/shapenetsdf\")"
   ]
  },
  {
   "cell_type": "markdown",
   "metadata": {},
   "source": [
    "## Training Loop\n",
    "* **DeepSDFTrainer** : This is the trainer which handles the training of DeepSDF model\n",
    "* **DeepSDF** : This is the model which is trained, the trained parameter is saved to *result_dir*"
   ]
  },
  {
   "cell_type": "code",
   "execution_count": 4,
   "metadata": {},
   "outputs": [
    {
     "data": {
      "image/png": "[encoded data removed]",
      "text/plain": [
       "<Figure size 640x480 with 1 Axes>"
      ]
     },
     "metadata": {},
     "output_type": "display_data"
    },
    {
     "name": "stderr",
     "output_type": "stream",
     "text": [
      " 50%|█████     | 1009/2000 [4:41:30<4:36:18, 16.73s/it]"
     ]
    },
    {
     "ename": "",
     "evalue": "",
     "output_type": "error",
     "traceback": [
      "\u001b[1;31mFailed to connect to the remote Jupyter Server 'https://kkb-production.jupyter-proxy.kaggle.net/k/232671290/eyJhbGciOiJkaXIiLCJlbmMiOiJBMTI4Q0JDLUhTMjU2IiwidHlwIjoiSldUIn0..ejpQzfp3GGhwmWCu0jM7aQ.A-zhZ023DJQh1XWflLScvA3mMXir5fLy9naNDxybFaYKimw76bCiBXWZv40BkLUMNo0fQzoqGfFUOdqSJGp4CFrwju1E2IV0TLXR64xnzWHtkI4T9-mTaSGDcNKUqDLdgTIg7wuw9CEaG_QhjEKp656SvGvzTPFtcTWaML-DxnOpLVdtFIBmcIBgFHQo3HpPhQ5JLinFheSCqWWsWQFF6cmkafixiogiNTnV7qup1r8.rU354eEfIGyyT2IvbJwwHA/proxy'. Verify the server is running and reachable."
     ]
    }
   ],
   "source": [
    "import matplotlib.pyplot as plt\n",
    "import numpy as np\n",
    "\n",
    "from tqdm import tqdm\n",
    "from IPython.display import clear_output\n",
    "\n",
    "from trainer.DeepSDFTrainer import DeepSDFTrainer\n",
    "from data.dataset import ShapeNetSDF\n",
    "from model.DeepSDF import DeepSDF\n",
    "\n",
    "deepsdf_model = DeepSDF(latent_dim=512, hidden_dim=512, n_hidden_layers=8)\n",
    "deepsdf_dataset = ShapeNetSDF(shapenetsdf_path)\n",
    "\n",
    "deepsdf_model_infos = {\n",
    "    \"deepsdf\" : {\n",
    "        \"model\" : deepsdf_model,\n",
    "        \"init_lr\" : 1e-3\n",
    "    }\n",
    "}\n",
    "\n",
    "deepsdf_trainer = DeepSDFTrainer(\n",
    "    deepsdf_model_infos,\n",
    "    deepsdf_dataset,\n",
    "    epochs=2000, batch_size=18, \n",
    "    results_dir=\"results_deepsdf_latent512_hidden512_dropout02\",\n",
    "    model_save_frequency=100\n",
    ")\n",
    "\n",
    "for e, losses in tqdm(deepsdf_trainer, total=deepsdf_trainer.epochs - deepsdf_trainer.get_latest_epoch()):\n",
    "    if e % 10 == 0:\n",
    "        clear_output()\n",
    "        x = np.arange(len(losses))\n",
    "        plt.plot(x, losses)\n",
    "        plt.xlabel('Epoch')\n",
    "        plt.ylabel('Loss')\n",
    "        plt.title('DeepSDF Training Loss')\n",
    "        plt.show()"
   ]
  },
  {
   "cell_type": "markdown",
   "metadata": {},
   "source": [
    "## Visualize"
   ]
  },
  {
   "cell_type": "code",
   "execution_count": null,
   "metadata": {},
   "outputs": [
    {
     "ename": "AttributeError",
     "evalue": "'DeepSDF' object has no attribute 'voxel_grid_size'",
     "output_type": "error",
     "traceback": [
      "\u001b[0;31m---------------------------------------------------------------------------\u001b[0m",
      "\u001b[0;31mAttributeError\u001b[0m                            Traceback (most recent call last)",
      "\u001b[0;32m<ipython-input-5-b9fb67530689>\u001b[0m in \u001b[0;36m<cell line: 5>\u001b[0;34m()\u001b[0m\n\u001b[1;32m      3\u001b[0m \u001b[0;34m\u001b[0m\u001b[0m\n\u001b[1;32m      4\u001b[0m \u001b[0mgenerate_index\u001b[0m \u001b[0;34m=\u001b[0m \u001b[0mrandom\u001b[0m\u001b[0;34m.\u001b[0m\u001b[0mrandint\u001b[0m\u001b[0;34m(\u001b[0m\u001b[0;36m0\u001b[0m\u001b[0;34m,\u001b[0m \u001b[0mlen\u001b[0m\u001b[0;34m(\u001b[0m\u001b[0mdeepsdf_dataset\u001b[0m\u001b[0;34m)\u001b[0m\u001b[0;34m)\u001b[0m\u001b[0;34m\u001b[0m\u001b[0;34m\u001b[0m\u001b[0m\n\u001b[0;32m----> 5\u001b[0;31m \u001b[0mvisualizer\u001b[0m \u001b[0;34m=\u001b[0m \u001b[0mVisualizer\u001b[0m\u001b[0;34m(\u001b[0m\u001b[0mdeepsdf_trainer\u001b[0m\u001b[0;34m.\u001b[0m\u001b[0mdeepsdf_model\u001b[0m\u001b[0;34m,\u001b[0m \u001b[0mdeepsdf_trainer\u001b[0m\u001b[0;34m.\u001b[0m\u001b[0membeddings\u001b[0m\u001b[0;34m)\u001b[0m\u001b[0;34m\u001b[0m\u001b[0;34m\u001b[0m\u001b[0m\n\u001b[0m\u001b[1;32m      6\u001b[0m \u001b[0mvisualizer\u001b[0m\u001b[0;34m.\u001b[0m\u001b[0mgenerate_sdf_objs\u001b[0m\u001b[0;34m(\u001b[0m\u001b[0mgenerate_index\u001b[0m\u001b[0;34m)\u001b[0m\u001b[0;34m\u001b[0m\u001b[0;34m\u001b[0m\u001b[0m\n",
      "\u001b[0;32m/kaggle/working/VC-SDFGen2/visualize.py\u001b[0m in \u001b[0;36m__init__\u001b[0;34m(self, sdf_decoder, latent_vecs)\u001b[0m\n\u001b[1;32m     13\u001b[0m     \u001b[0;32mdef\u001b[0m \u001b[0m__init__\u001b[0m\u001b[0;34m(\u001b[0m\u001b[0mself\u001b[0m\u001b[0;34m,\u001b[0m \u001b[0msdf_decoder\u001b[0m \u001b[0;34m:\u001b[0m \u001b[0mVoxelSDF\u001b[0m\u001b[0;34m,\u001b[0m \u001b[0mlatent_vecs\u001b[0m \u001b[0;34m:\u001b[0m \u001b[0mnn\u001b[0m\u001b[0;34m.\u001b[0m\u001b[0mEmbedding\u001b[0m\u001b[0;34m)\u001b[0m\u001b[0;34m:\u001b[0m\u001b[0;34m\u001b[0m\u001b[0;34m\u001b[0m\u001b[0m\n\u001b[1;32m     14\u001b[0m         \u001b[0mself\u001b[0m\u001b[0;34m.\u001b[0m\u001b[0msdf_decoder\u001b[0m \u001b[0;34m=\u001b[0m \u001b[0msdf_decoder\u001b[0m\u001b[0;34m\u001b[0m\u001b[0;34m\u001b[0m\u001b[0m\n\u001b[0;32m---> 15\u001b[0;31m         \u001b[0mself\u001b[0m\u001b[0;34m.\u001b[0m\u001b[0mlatent_grid_size\u001b[0m \u001b[0;34m=\u001b[0m \u001b[0mself\u001b[0m\u001b[0;34m.\u001b[0m\u001b[0msdf_decoder\u001b[0m\u001b[0;34m.\u001b[0m\u001b[0mvoxel_grid_size\u001b[0m\u001b[0;34m\u001b[0m\u001b[0;34m\u001b[0m\u001b[0m\n\u001b[0m\u001b[1;32m     16\u001b[0m         \u001b[0mself\u001b[0m\u001b[0;34m.\u001b[0m\u001b[0mlatent_dim\u001b[0m \u001b[0;34m=\u001b[0m \u001b[0mself\u001b[0m\u001b[0;34m.\u001b[0m\u001b[0msdf_decoder\u001b[0m\u001b[0;34m.\u001b[0m\u001b[0mlatent_dim\u001b[0m\u001b[0;34m\u001b[0m\u001b[0;34m\u001b[0m\u001b[0m\n\u001b[1;32m     17\u001b[0m \u001b[0;34m\u001b[0m\u001b[0m\n",
      "\u001b[0;32m/usr/local/lib/python3.10/dist-packages/torch/nn/modules/module.py\u001b[0m in \u001b[0;36m__getattr__\u001b[0;34m(self, name)\u001b[0m\n\u001b[1;32m   1929\u001b[0m             \u001b[0;32mif\u001b[0m \u001b[0mname\u001b[0m \u001b[0;32min\u001b[0m \u001b[0mmodules\u001b[0m\u001b[0;34m:\u001b[0m\u001b[0;34m\u001b[0m\u001b[0;34m\u001b[0m\u001b[0m\n\u001b[1;32m   1930\u001b[0m                 \u001b[0;32mreturn\u001b[0m \u001b[0mmodules\u001b[0m\u001b[0;34m[\u001b[0m\u001b[0mname\u001b[0m\u001b[0;34m]\u001b[0m\u001b[0;34m\u001b[0m\u001b[0;34m\u001b[0m\u001b[0m\n\u001b[0;32m-> 1931\u001b[0;31m         raise AttributeError(\n\u001b[0m\u001b[1;32m   1932\u001b[0m             \u001b[0;34mf\"'{type(self).__name__}' object has no attribute '{name}'\"\u001b[0m\u001b[0;34m\u001b[0m\u001b[0;34m\u001b[0m\u001b[0m\n\u001b[1;32m   1933\u001b[0m         )\n",
      "\u001b[0;31mAttributeError\u001b[0m: 'DeepSDF' object has no attribute 'voxel_grid_size'"
     ]
    }
   ],
   "source": [
    "from visualize import Visualizer\n",
    "import random\n",
    "\n",
    "generate_index = random.randint(0, len(deepsdf_dataset))\n",
    "visualizer = Visualizer(deepsdf_trainer.deepsdf_model, deepsdf_trainer.embeddings)\n",
    "visualizer.generate_sdf_objs(generate_index)"
   ]
  },
  {
   "cell_type": "markdown",
   "metadata": {},
   "source": [
    "# Train VCCNF"
   ]
  },
  {
   "cell_type": "markdown",
   "metadata": {},
   "source": [
    "## Data Preparation"
   ]
  },
  {
   "cell_type": "code",
   "execution_count": null,
   "metadata": {},
   "outputs": [],
   "source": [
    "shapenetvoxel32_path = kagglehub.dataset_download(\"turtlejaywang/shapenetvoxel64\")"
   ]
  },
  {
   "cell_type": "markdown",
   "metadata": {},
   "source": [
    "## Training Loop\n",
    "* **VCCNF**: This is the main CNF wrapper which contains a ODE network and a voxel encoder\n",
    "* **VCCNFTrainer** : This is the trainer object which handles training affairs."
   ]
  },
  {
   "cell_type": "code",
   "execution_count": null,
   "metadata": {},
   "outputs": [],
   "source": [
    "import matplotlib.pyplot as plt\n",
    "import numpy as np\n",
    "\n",
    "from tqdm import tqdm\n",
    "from IPython.display import clear_output\n",
    "\n",
    "from trainer.VCCNFTrainer import VCCNFTrainer\n",
    "from data.dataset import ShapeNetVoxel32\n",
    "from model.VCCNF import VCCNF\n",
    "\n",
    "vccnf_model = VCCNF(latent_dim=512, hidden_dim=512, n_hidden_layers=8)\n",
    "shapenetvoxel32 = ShapeNetVoxel32(shapenetsdf_path)\n",
    "\n",
    "vccnf_trainer = VCCNFTrainer(\n",
    "    deepsdf_model,\n",
    "    shapenetvoxel32,\n",
    "    epochs=2000, batch_size=24, \n",
    "    results_dir=\"results_deepsdf_latent512_hidden512_dropout02\"\n",
    ")\n",
    "\n",
    "for e, losses in tqdm(enumerate(vccnf_trainer), total=vccnf_trainer.epochs):\n",
    "    if e % 10 == 0:\n",
    "        clear_output()\n",
    "        x = np.arange(len(losses))\n",
    "        plt.plot(x, losses)\n",
    "        plt.xlabel('Epoch')\n",
    "        plt.ylabel('Loss')\n",
    "        plt.title('VCCNF Training Loss')\n",
    "        plt.show()"
   ]
  }
 ],
 "metadata": {
  "kernelspec": {
   "display_name": "Python 3",
   "language": "python",
   "name": "python3"
  },
  "language_info": {
   "codemirror_mode": {
    "name": "ipython",
    "version": 3
   },
   "file_extension": ".py",
   "mimetype": "text/x-python",
   "name": "python",
   "nbconvert_exporter": "python",
   "pygments_lexer": "ipython3",
   "version": "3.10.12"
  }
 },
 "nbformat": 4,
 "nbformat_minor": 2
}
